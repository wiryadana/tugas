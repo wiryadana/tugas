{
  "cells": [
    {
      "cell_type": "raw",
      "metadata": {},
      "source": [
        "---\n",
        "title: \"PICO\"\n",
        "author: \"Kelompok 1\"\n",
        "format: revealjs\n",
        "editor: visual\n",
        "---"
      ],
      "id": "1410e910"
    },
    {
      "cell_type": "markdown",
      "metadata": {},
      "source": [
        "## Instruksi\n",
        "Membuat pertanyaan klinis berdasarkan prinsip PICO !\n",
        "\n",
        "## Skenario\n",
        "Kita menghadapi anak dg defisiensi growth hormone (GH), apakah pemberian terapi GH eksogen dapat memacu pertumbuhan anak tersebut?\n",
        "\n",
        "## PICO\n",
        "\n",
        "::: {.incremental}\n",
        "\n",
        "-  P (patient/population): Anak usia 2 - 14 tahun dengan isolated growth hormone deficiency\n",
        "\n",
        "-  I (ntervention): Terapi GH eksogen dengan dosis awal 25 mcg/kgBB/hari\n",
        "\n",
        "-  C (comparator/control): lasebo\n",
        "\n",
        "-  O (outcome): laju peningkatan tinggi badan per tahun (Δ height velocity) >3 cm dalam 12 bulan terapi.\n",
        "\n",
        ":::\n",
        "\n",
        "## Pertanyaan Klinis\n",
        "Pada pasien anak usia 2 -14 tahun dengan isolated growth hormone deficiency, apakah pemberian growth hormone eksogen sebagai terapi dapat meningkatkan height velocity >3 cm/tahun pada 12 bulan terapi dibandingkan anak yang diberikan terapi plasebo.\n",
        "\n",
        "::: footer\n",
        "-  https://academic.oup.com/jcem/article/93/2/352/2597982\n",
        "-  https://onlinelibrary.wiley.com/doi/10.1111/j.1365-2265.2012.04420.x\n",
        "-  https://www.ncbi.nlm.nih.gov/pmc/articles/PMC6979443/\n",
        ":::\n",
        "\n",
        "\n",
        "```{bash}\n",
        "#!/bin/bash\n",
        "cp pcio.html index.html\n",
        "```"
      ],
      "id": "9e107c52"
    }
  ],
  "metadata": {
    "kernelspec": {
      "display_name": "Python 3",
      "language": "python",
      "name": "python3"
    }
  },
  "nbformat": 4,
  "nbformat_minor": 5
}